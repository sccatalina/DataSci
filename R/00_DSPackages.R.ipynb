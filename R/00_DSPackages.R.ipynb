{
 "cells": [
  {
   "cell_type": "markdown",
   "metadata": {},
   "source": [
    "### *By Silvia Catalina*"
   ]
  },
  {
   "cell_type": "code",
   "execution_count": null,
   "metadata": {},
   "outputs": [],
   "source": [
    "# Data Science packages for fresh R Install\n",
    "\n",
    "install.packages(\"datasets\")\n",
    "install.packages(\"readxl\") \n",
    "install.packages(\"dplyr\")\n",
    "install.packages(\"tidyr\") \n",
    "install.packages(\"PerformanceAnalytics\")\n",
    "install.packages(\"corrplot\") \n",
    "install.packages(\"gapminder\")\n",
    "install.packages(\"gridExtra\")\n",
    "install.packages(\"Ecdat\")\n",
    "install.packages(\"corpcor\")\n",
    "install.packages(\"GPArotation\")\n",
    "install.packages(\"psych\")\n",
    "install.packages(\"IDPmisc\")\n",
    "install.packages(\"lattice\") \n",
    "install.packages(\"treetop\")\n",
    "install.packages(\"scales\")\n",
    "install.packages(\"rcompanion\")\n",
    "install.packages(\"gmodels\")\n",
    "install.packages(\"car\")\n",
    "install.packages(\"caret\")\n",
    "install.packages(\"gvlma\")\n",
    "install.packages(\"predictmeans\")\n",
    "install.packages(\"magrittr\")\n",
    "install.packages(\"lmtest\")\n",
    "install.packages(\"popbio\")\n",
    "install.packages(\"e1071\")\n",
    "install.packages(\"data.table\")\n",
    "install.packages(\"aptest\")\n",
    "install.packages(\"ncvtest\")\n",
    "install.packages(\"effects\")\n",
    "install.packages(\"multcomp\")\n",
    "install.packages(\"mvnormtest\")"
   ]
  }
 ],
 "metadata": {
  "kernelspec": {
   "display_name": "R",
   "language": "R",
   "name": "ir"
  },
  "language_info": {
   "codemirror_mode": "r",
   "file_extension": ".r",
   "mimetype": "text/x-r-source",
   "name": "R",
   "pygments_lexer": "r",
   "version": "4.1.0"
  }
 },
 "nbformat": 4,
 "nbformat_minor": 4
}
